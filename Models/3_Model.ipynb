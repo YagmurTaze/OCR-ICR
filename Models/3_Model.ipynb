{
  "nbformat": 4,
  "nbformat_minor": 0,
  "metadata": {
    "colab": {
      "provenance": [],
      "collapsed_sections": [
        "uajclYh_Ob5u",
        "a7vgQfkFOo6d",
        "Edj5ozXSR2pC",
        "pu_minQMR9aR",
        "hhsAPQJBSGLZ",
        "KhWy-D5YSTd6"
      ],
      "machine_shape": "hm",
      "gpuType": "A100",
      "authorship_tag": "ABX9TyM5hufFfqZkoLmrQHwXO1Mq",
      "include_colab_link": true
    },
    "kernelspec": {
      "name": "python3",
      "display_name": "Python 3"
    },
    "language_info": {
      "name": "python"
    },
    "accelerator": "GPU"
  },
  "cells": [
    {
      "cell_type": "markdown",
      "metadata": {
        "id": "view-in-github",
        "colab_type": "text"
      },
      "source": [
        "<a href=\"https://colab.research.google.com/github/YagmurTaze/OCR-ICR/blob/main/3_Model.ipynb\" target=\"_parent\"><img src=\"https://colab.research.google.com/assets/colab-badge.svg\" alt=\"Open In Colab\"/></a>"
      ]
    },
    {
      "cell_type": "markdown",
      "source": [
        "## Imports"
      ],
      "metadata": {
        "id": "uajclYh_Ob5u"
      }
    },
    {
      "cell_type": "code",
      "execution_count": 1,
      "metadata": {
        "id": "6aNLBEVpOVU5"
      },
      "outputs": [],
      "source": [
        "import os\n",
        "import cv2\n",
        "import random\n",
        "import numpy as np\n",
        "import pandas as pd\n",
        "import matplotlib.pyplot as plt\n",
        "\n",
        "import tensorflow as tf\n",
        "from tensorflow.keras import backend as K\n",
        "from tensorflow.keras.models import Model\n",
        "from tensorflow.keras.layers import Input, Conv2D, MaxPooling2D, Reshape, Bidirectional, LSTM, Dense, Lambda, Activation, BatchNormalization, Dropout\n",
        "from tensorflow.keras.optimizers import Adam\n",
        "\n",
        "from tqdm import tqdm\n",
        "\n",
        "from google.colab import drive"
      ]
    },
    {
      "cell_type": "code",
      "source": [
        "drive.mount('/content/drive')"
      ],
      "metadata": {
        "colab": {
          "base_uri": "https://localhost:8080/"
        },
        "id": "l03XApHMOeFK",
        "outputId": "5e67da0e-6a94-437c-ab89-5902432d9c49"
      },
      "execution_count": 2,
      "outputs": [
        {
          "output_type": "stream",
          "name": "stdout",
          "text": [
            "Mounted at /content/drive\n"
          ]
        }
      ]
    },
    {
      "cell_type": "markdown",
      "source": [
        "## The Dataset"
      ],
      "metadata": {
        "id": "Q5_HjMioOfqF"
      }
    },
    {
      "cell_type": "code",
      "source": [
        "#import pandas as pd\n",
        "\n",
        "# Excel dosyasını oku\n",
        "#excel_file = '/content/validation.xlsx'\n",
        "#df = pd.read_excel(excel_file)\n",
        "\n",
        "# CSV olarak kaydet (UTF-8 kodlaması ile)\n",
        "#csv_file = 'validation.csv'\n",
        "#df.to_csv(csv_file, index=False, encoding='utf-8')"
      ],
      "metadata": {
        "id": "fR2lTHWpmF3p"
      },
      "execution_count": 49,
      "outputs": []
    },
    {
      "cell_type": "code",
      "source": [
        "train = pd.read_csv('/content/train.csv')\n",
        "valid = pd.read_csv('/content/validation.csv')"
      ],
      "metadata": {
        "id": "S1lRP5EDmTrE"
      },
      "execution_count": 50,
      "outputs": []
    },
    {
      "cell_type": "code",
      "source": [
        "plt.figure(figsize=(15, 10))\n",
        "\n",
        "for i in range(6):\n",
        "    ax = plt.subplot(2, 3, i+1)\n",
        "    img_dir = '/content/drive/MyDrive/Datasets/WORDS OCR/train/'+train.loc[i, 'FILENAME']\n",
        "    image = cv2.imread(img_dir, cv2.IMREAD_GRAYSCALE)\n",
        "    plt.imshow(image, cmap = 'gray')\n",
        "    plt.title(train.loc[i, 'IDENTITY'], fontsize=12)\n",
        "    plt.axis('off')\n",
        "\n",
        "plt.subplots_adjust(wspace=0.2, hspace=-0.8)"
      ],
      "metadata": {
        "colab": {
          "base_uri": "https://localhost:8080/",
          "height": 283
        },
        "id": "H-ABpOajmmrp",
        "outputId": "b083426f-d20a-4a5e-850f-290c291a9426"
      },
      "execution_count": 51,
      "outputs": [
        {
          "output_type": "display_data",
          "data": {
            "text/plain": [
              "<Figure size 1500x1000 with 6 Axes>"
            ],
            "image/png": "[encoded data removed]"
          },
          "metadata": {}
        }
      ]
    },
    {
      "cell_type": "code",
      "source": [
        "train_size = 7196\n",
        "valid_size= 800"
      ],
      "metadata": {
        "id": "PCEM5WzSmpCH"
      },
      "execution_count": 56,
      "outputs": []
    },
    {
      "cell_type": "markdown",
      "source": [
        "## Preprocess"
      ],
      "metadata": {
        "id": "p61xWj7umvBO"
      }
    },
    {
      "cell_type": "code",
      "source": [
        "def preprocess(img):\n",
        "    (h, w) = img.shape\n",
        "\n",
        "    final_img = np.ones([64, 256])*255 # blank white image\n",
        "\n",
        "    # crop\n",
        "    if w > 256:\n",
        "        img = img[:, :256]\n",
        "\n",
        "    if h > 64:\n",
        "        img = img[:64, :]\n",
        "\n",
        "\n",
        "    final_img[:h, :w] = img\n",
        "    return cv2.rotate(final_img, cv2.ROTATE_90_CLOCKWISE)"
      ],
      "metadata": {
        "id": "PzWLvTD0OhkG"
      },
      "execution_count": 53,
      "outputs": []
    },
    {
      "cell_type": "code",
      "source": [
        "train_x = []\n",
        "\n",
        "for i in tqdm(range(train_size)):\n",
        "    img_dir = '/content/drive/MyDrive/Datasets/WORDS OCR/train/'+train.loc[i, 'FILENAME']\n",
        "    image = cv2.imread(img_dir, cv2.IMREAD_GRAYSCALE)\n",
        "    image = preprocess(image)\n",
        "    image = image/255.\n",
        "    train_x.append(image)"
      ],
      "metadata": {
        "id": "uQEV69jpdD-8"
      },
      "execution_count": null,
      "outputs": []
    },
    {
      "cell_type": "code",
      "source": [
        "valid_x = []\n",
        "\n",
        "for i in tqdm(range(valid_size)):\n",
        "    img_dir = '/content/drive/MyDrive/Datasets/WORDS OCR/val/'+valid.loc[i, 'FILENAME']\n",
        "    image = cv2.imread(img_dir, cv2.IMREAD_GRAYSCALE)\n",
        "    image = preprocess(image)\n",
        "    image = image/255.\n",
        "    valid_x.append(image)"
      ],
      "metadata": {
        "colab": {
          "base_uri": "https://localhost:8080/"
        },
        "id": "RCXzo-UxOkBV",
        "outputId": "16b555db-5c85-4f70-eac0-47ec755dffd0"
      },
      "execution_count": 57,
      "outputs": [
        {
          "output_type": "stream",
          "name": "stderr",
          "text": [
            "100%|██████████| 800/800 [05:45<00:00,  2.31it/s]\n"
          ]
        }
      ]
    },
    {
      "cell_type": "code",
      "source": [
        "len(valid_x)"
      ],
      "metadata": {
        "colab": {
          "base_uri": "https://localhost:8080/"
        },
        "id": "jLaddCj9UwHk",
        "outputId": "b5b1eb91-faf7-42ce-d2be-2d3ad42bc528"
      },
      "execution_count": 58,
      "outputs": [
        {
          "output_type": "execute_result",
          "data": {
            "text/plain": [
              "800"
            ]
          },
          "metadata": {},
          "execution_count": 58
        }
      ]
    },
    {
      "cell_type": "code",
      "source": [
        "# train_x listesini numpy array olarak kaydetme\n",
        "train_x_array = np.array(train_x)\n",
        "np.save('/content/drive/MyDrive/Datasets/WORDS OCR/train_x.npy', train_x_array)\n",
        "\n",
        "# valid_x listesini numpy array olarak kaydetme\n",
        "valid_x_array = np.array(valid_x)\n",
        "np.save('/content/drive/MyDrive/Datasets/WORDS OCR/valid_x.npy', valid_x_array)"
      ],
      "metadata": {
        "id": "k1FbHNU4QzNi"
      },
      "execution_count": 59,
      "outputs": []
    },
    {
      "cell_type": "code",
      "source": [
        "# Kaydedilmiş numpy array dosyasını yükleme\n",
        "train_x_array = np.load('/content/drive/MyDrive/Datasets/TURKISH WORDS/train_x.npy')\n",
        "train_x = train_x_array.tolist()\n",
        "\n",
        "valid_x_array = np.load('/content/drive/MyDrive/Datasets/TURKISH WORDS/valid_x.npy')\n",
        "valid_x = valid_x_array.tolist()"
      ],
      "metadata": {
        "id": "mAbohwshQ9HS"
      },
      "execution_count": null,
      "outputs": []
    },
    {
      "cell_type": "markdown",
      "source": [
        "## Part 2"
      ],
      "metadata": {
        "id": "a7vgQfkFOo6d"
      }
    },
    {
      "cell_type": "code",
      "source": [
        "train_x = np.array(train_x).reshape(-1, 256, 64, 1)\n",
        "valid_x = np.array(valid_x).reshape(-1, 256, 64, 1)"
      ],
      "metadata": {
        "id": "O1Sjg4LWOnhZ"
      },
      "execution_count": 108,
      "outputs": []
    },
    {
      "cell_type": "code",
      "source": [
        "alphabets = u\"ABCÇDEFGĞHIİJKLMNOÖPRSŞTUÜVYZabcçdefgğhıijklmnoöprsştuüvyz0123456789\\\".,-':;()?/!+& \"\n",
        "max_str_len = 24 # max length of input labels\n",
        "num_of_characters = len(alphabets) + 1 # +1 for ctc pseudo blank\n",
        "num_of_timestamps = 64 # max length of predicted labels\n",
        "\n",
        "\n",
        "def label_to_num(label):\n",
        "    label_num = []\n",
        "    for ch in label:\n",
        "        label_num.append(alphabets.find(ch))\n",
        "\n",
        "    return np.array(label_num)\n",
        "\n",
        "def num_to_label(num):\n",
        "    ret = \"\"\n",
        "    for ch in num:\n",
        "        if ch == -1:  # CTC Blank\n",
        "            break\n",
        "        else:\n",
        "            ret+=alphabets[ch]\n",
        "    return ret"
      ],
      "metadata": {
        "id": "XVivMZyIOsL3"
      },
      "execution_count": 109,
      "outputs": []
    },
    {
      "cell_type": "code",
      "source": [
        "name = 'ABC ?'\n",
        "print(name, '\\n',label_to_num(name))"
      ],
      "metadata": {
        "id": "uVej_fFxOuoH",
        "colab": {
          "base_uri": "https://localhost:8080/"
        },
        "outputId": "664674a0-d865-4e74-deed-1fce1f87497d"
      },
      "execution_count": 110,
      "outputs": [
        {
          "output_type": "stream",
          "name": "stdout",
          "text": [
            "ABC ? \n",
            " [ 0  1  2 82 77]\n"
          ]
        }
      ]
    },
    {
      "cell_type": "code",
      "source": [
        "train_y = np.ones([train_size, max_str_len]) * -1\n",
        "train_label_len = np.zeros([train_size, 1])\n",
        "train_input_len = np.ones([train_size, 1]) * (num_of_timestamps-2)\n",
        "train_output = np.zeros([train_size])\n",
        "\n",
        "for i in range(train_size):\n",
        "    train_label_len[i] = len(train.loc[i, 'IDENTITY'])\n",
        "    train_y[i, 0:len(train.loc[i, 'IDENTITY'])]= label_to_num(train.loc[i, 'IDENTITY'])"
      ],
      "metadata": {
        "id": "PLbJIE28Ov3d"
      },
      "execution_count": 111,
      "outputs": []
    },
    {
      "cell_type": "code",
      "source": [
        "valid_y = np.ones([valid_size, max_str_len]) * -1\n",
        "valid_label_len = np.zeros([valid_size, 1])\n",
        "valid_input_len = np.ones([valid_size, 1]) * (num_of_timestamps-2)\n",
        "valid_output = np.zeros([valid_size])\n",
        "\n",
        "for i in range(valid_size):\n",
        "    valid_label_len[i] = len(valid.loc[i, 'IDENTITY'])\n",
        "    valid_y[i, 0:len(valid.loc[i, 'IDENTITY'])]= label_to_num(valid.loc[i, 'IDENTITY'])"
      ],
      "metadata": {
        "id": "_dFDe3yfOxPp"
      },
      "execution_count": 112,
      "outputs": []
    },
    {
      "cell_type": "code",
      "source": [
        "print('True label : ',train.loc[100, 'IDENTITY'] , '\\ntrain_y : ',train_y[100],'\\ntrain_label_len : ',train_label_len[100],\n",
        "      '\\ntrain_input_len : ', train_input_len[100])"
      ],
      "metadata": {
        "id": "dLiBsml8Oxs9",
        "colab": {
          "base_uri": "https://localhost:8080/"
        },
        "outputId": "6e33f3ed-7ca0-4cd2-90ab-745161387354"
      },
      "execution_count": 113,
      "outputs": [
        {
          "output_type": "stream",
          "name": "stdout",
          "text": [
            "True label :  istemiştir. \n",
            "train_y :  [40. 50. 52. 34. 44. 40. 51. 52. 40. 49. 69. -1. -1. -1. -1. -1. -1. -1.\n",
            " -1. -1. -1. -1. -1. -1.] \n",
            "train_label_len :  [11.] \n",
            "train_input_len :  [62.]\n"
          ]
        }
      ]
    },
    {
      "cell_type": "markdown",
      "source": [
        "## The Model"
      ],
      "metadata": {
        "id": "Edj5ozXSR2pC"
      }
    },
    {
      "cell_type": "code",
      "source": [
        "input_data = Input(shape=(256, 64, 1), name='input')\n",
        "\n",
        "inner = Conv2D(32, (3, 3), padding='same', name='conv1', kernel_initializer='he_normal')(input_data)\n",
        "inner = BatchNormalization()(inner)\n",
        "inner = Activation('relu')(inner)\n",
        "inner = MaxPooling2D(pool_size=(2, 2), name='max1')(inner)\n",
        "\n",
        "inner = Conv2D(64, (3, 3), padding='same', name='conv2', kernel_initializer='he_normal')(inner)\n",
        "inner = BatchNormalization()(inner)\n",
        "inner = Activation('relu')(inner)\n",
        "inner = MaxPooling2D(pool_size=(2, 2), name='max2')(inner)\n",
        "inner = Dropout(0.3)(inner)\n",
        "\n",
        "inner = Conv2D(128, (3, 3), padding='same', name='conv3', kernel_initializer='he_normal')(inner)\n",
        "inner = BatchNormalization()(inner)\n",
        "inner = Activation('relu')(inner)\n",
        "inner = MaxPooling2D(pool_size=(1, 2), name='max3')(inner)\n",
        "inner = Dropout(0.3)(inner)\n",
        "\n",
        "# CNN to RNN\n",
        "inner = Reshape(target_shape=((64, 1024)), name='reshape')(inner)\n",
        "inner = Dense(64, activation='relu', kernel_initializer='he_normal', name='dense1')(inner)\n",
        "\n",
        "## RNN\n",
        "inner = Bidirectional(LSTM(256, return_sequences=True), name = 'lstm1')(inner)\n",
        "inner = Bidirectional(LSTM(256, return_sequences=True), name = 'lstm2')(inner)\n",
        "\n",
        "## OUTPUT\n",
        "inner = Dense(num_of_characters, kernel_initializer='he_normal',name='dense2')(inner)\n",
        "y_pred = Activation('softmax', name='softmax')(inner)\n",
        "\n",
        "model = Model(inputs=input_data, outputs=y_pred)\n",
        "model.summary()"
      ],
      "metadata": {
        "id": "gtHnnB4XR1-v",
        "colab": {
          "base_uri": "https://localhost:8080/"
        },
        "outputId": "082b1986-49cc-466e-e13c-bca5b96619a5"
      },
      "execution_count": 114,
      "outputs": [
        {
          "output_type": "stream",
          "name": "stdout",
          "text": [
            "Model: \"model_6\"\n",
            "_________________________________________________________________\n",
            " Layer (type)                Output Shape              Param #   \n",
            "=================================================================\n",
            " input (InputLayer)          [(None, 256, 64, 1)]      0         \n",
            "                                                                 \n",
            " conv1 (Conv2D)              (None, 256, 64, 32)       320       \n",
            "                                                                 \n",
            " batch_normalization_9 (Bat  (None, 256, 64, 32)       128       \n",
            " chNormalization)                                                \n",
            "                                                                 \n",
            " activation_9 (Activation)   (None, 256, 64, 32)       0         \n",
            "                                                                 \n",
            " max1 (MaxPooling2D)         (None, 128, 32, 32)       0         \n",
            "                                                                 \n",
            " conv2 (Conv2D)              (None, 128, 32, 64)       18496     \n",
            "                                                                 \n",
            " batch_normalization_10 (Ba  (None, 128, 32, 64)       256       \n",
            " tchNormalization)                                               \n",
            "                                                                 \n",
            " activation_10 (Activation)  (None, 128, 32, 64)       0         \n",
            "                                                                 \n",
            " max2 (MaxPooling2D)         (None, 64, 16, 64)        0         \n",
            "                                                                 \n",
            " dropout_6 (Dropout)         (None, 64, 16, 64)        0         \n",
            "                                                                 \n",
            " conv3 (Conv2D)              (None, 64, 16, 128)       73856     \n",
            "                                                                 \n",
            " batch_normalization_11 (Ba  (None, 64, 16, 128)       512       \n",
            " tchNormalization)                                               \n",
            "                                                                 \n",
            " activation_11 (Activation)  (None, 64, 16, 128)       0         \n",
            "                                                                 \n",
            " max3 (MaxPooling2D)         (None, 64, 8, 128)        0         \n",
            "                                                                 \n",
            " dropout_7 (Dropout)         (None, 64, 8, 128)        0         \n",
            "                                                                 \n",
            " reshape (Reshape)           (None, 64, 1024)          0         \n",
            "                                                                 \n",
            " dense1 (Dense)              (None, 64, 64)            65600     \n",
            "                                                                 \n",
            " lstm1 (Bidirectional)       (None, 64, 512)           657408    \n",
            "                                                                 \n",
            " lstm2 (Bidirectional)       (None, 64, 512)           1574912   \n",
            "                                                                 \n",
            " dense2 (Dense)              (None, 64, 84)            43092     \n",
            "                                                                 \n",
            " softmax (Activation)        (None, 64, 84)            0         \n",
            "                                                                 \n",
            "=================================================================\n",
            "Total params: 2434580 (9.29 MB)\n",
            "Trainable params: 2434132 (9.29 MB)\n",
            "Non-trainable params: 448 (1.75 KB)\n",
            "_________________________________________________________________\n"
          ]
        }
      ]
    },
    {
      "cell_type": "code",
      "source": [
        "# the ctc loss function\n",
        "def ctc_lambda_func(args):\n",
        "     y_pred, labels, input_length, label_length = args\n",
        "\n",
        "     y_pred = y_pred[:, 2:, :]\n",
        "     return K.ctc_batch_cost(labels, y_pred, input_length, label_length)"
      ],
      "metadata": {
        "id": "yrBfz_1GR5nb"
      },
      "execution_count": 115,
      "outputs": []
    },
    {
      "cell_type": "code",
      "source": [
        "labels = Input(name='gtruth_labels', shape=[max_str_len], dtype='float32')\n",
        "input_length = Input(name='input_length', shape=[1], dtype='int64')\n",
        "label_length = Input(name='label_length', shape=[1], dtype='int64')\n",
        "\n",
        "ctc_loss = Lambda(ctc_lambda_func, output_shape=(1,), name='ctc')([y_pred, labels, input_length, label_length])\n",
        "model_final = Model(inputs=[input_data, labels, input_length, label_length], outputs=ctc_loss)"
      ],
      "metadata": {
        "id": "LzUmdjaUR7DX"
      },
      "execution_count": 116,
      "outputs": []
    },
    {
      "cell_type": "markdown",
      "source": [
        "## Training"
      ],
      "metadata": {
        "id": "pu_minQMR9aR"
      }
    },
    {
      "cell_type": "code",
      "source": [
        "metrics = ['accuracy']\n",
        "\n",
        "model_final.compile(loss={'ctc': lambda y_true, y_pred: y_pred}, optimizer=Adam(learning_rate = 0.0001),metrics=metrics)\n",
        "\n",
        "model_final.fit(x=[train_x, train_y, train_input_len, train_label_len], y=train_output,\n",
        "                validation_data=([valid_x, valid_y, valid_input_len, valid_label_len], valid_output),\n",
        "                epochs=50, batch_size=128)\n"
      ],
      "metadata": {
        "colab": {
          "base_uri": "https://localhost:8080/"
        },
        "id": "nnWW72Kscbon",
        "outputId": "179fdc31-f84e-4d92-864e-9272e3a12345"
      },
      "execution_count": 117,
      "outputs": [
        {
          "output_type": "stream",
          "name": "stdout",
          "text": [
            "Epoch 1/50\n",
            "57/57 [==============================] - 14s 117ms/step - loss: 53.6361 - accuracy: 0.0000e+00 - val_loss: 32.6994 - val_accuracy: 0.0000e+00\n",
            "Epoch 2/50\n",
            "57/57 [==============================] - 5s 80ms/step - loss: 23.4886 - accuracy: 0.0000e+00 - val_loss: 24.0697 - val_accuracy: 0.0000e+00\n",
            "Epoch 3/50\n",
            "57/57 [==============================] - 4s 77ms/step - loss: 22.0332 - accuracy: 0.0000e+00 - val_loss: 22.2525 - val_accuracy: 0.0000e+00\n",
            "Epoch 4/50\n",
            "57/57 [==============================] - 4s 77ms/step - loss: 21.5114 - accuracy: 0.0000e+00 - val_loss: 21.7060 - val_accuracy: 0.0000e+00\n",
            "Epoch 5/50\n",
            "57/57 [==============================] - 4s 78ms/step - loss: 21.1869 - accuracy: 0.0000e+00 - val_loss: 21.4038 - val_accuracy: 0.0000e+00\n",
            "Epoch 6/50\n",
            "57/57 [==============================] - 4s 76ms/step - loss: 20.9684 - accuracy: 0.0000e+00 - val_loss: 21.0435 - val_accuracy: 0.0000e+00\n",
            "Epoch 7/50\n",
            "57/57 [==============================] - 4s 78ms/step - loss: 20.7776 - accuracy: 0.0000e+00 - val_loss: 20.8121 - val_accuracy: 0.0000e+00\n",
            "Epoch 8/50\n",
            "57/57 [==============================] - 4s 77ms/step - loss: 20.6171 - accuracy: 0.0000e+00 - val_loss: 20.6211 - val_accuracy: 0.0000e+00\n",
            "Epoch 9/50\n",
            "57/57 [==============================] - 4s 77ms/step - loss: 20.4365 - accuracy: 0.0000e+00 - val_loss: 20.4398 - val_accuracy: 0.0000e+00\n",
            "Epoch 10/50\n",
            "57/57 [==============================] - 5s 81ms/step - loss: 20.2541 - accuracy: 0.0000e+00 - val_loss: 20.1508 - val_accuracy: 0.0000e+00\n",
            "Epoch 11/50\n",
            "57/57 [==============================] - 4s 76ms/step - loss: 20.0463 - accuracy: 0.0000e+00 - val_loss: 19.9464 - val_accuracy: 0.0000e+00\n",
            "Epoch 12/50\n",
            "57/57 [==============================] - 4s 76ms/step - loss: 19.7062 - accuracy: 0.0000e+00 - val_loss: 19.8454 - val_accuracy: 0.0000e+00\n",
            "Epoch 13/50\n",
            "57/57 [==============================] - 4s 78ms/step - loss: 19.3769 - accuracy: 0.0000e+00 - val_loss: 19.0363 - val_accuracy: 0.0000e+00\n",
            "Epoch 14/50\n",
            "57/57 [==============================] - 4s 78ms/step - loss: 18.8906 - accuracy: 0.0000e+00 - val_loss: 18.5287 - val_accuracy: 0.0000e+00\n",
            "Epoch 15/50\n",
            "57/57 [==============================] - 4s 77ms/step - loss: 18.5427 - accuracy: 0.0000e+00 - val_loss: 18.2243 - val_accuracy: 0.0000e+00\n",
            "Epoch 16/50\n",
            "57/57 [==============================] - 4s 78ms/step - loss: 18.1299 - accuracy: 0.0000e+00 - val_loss: 18.2203 - val_accuracy: 0.0000e+00\n",
            "Epoch 17/50\n",
            "57/57 [==============================] - 4s 77ms/step - loss: 17.7843 - accuracy: 0.0000e+00 - val_loss: 17.6712 - val_accuracy: 0.0000e+00\n",
            "Epoch 18/50\n",
            "57/57 [==============================] - 4s 77ms/step - loss: 17.3866 - accuracy: 0.0000e+00 - val_loss: 17.0827 - val_accuracy: 0.0000e+00\n",
            "Epoch 19/50\n",
            "57/57 [==============================] - 5s 79ms/step - loss: 17.0108 - accuracy: 0.0000e+00 - val_loss: 16.7572 - val_accuracy: 0.0000e+00\n",
            "Epoch 20/50\n",
            "57/57 [==============================] - 4s 77ms/step - loss: 16.5864 - accuracy: 0.0000e+00 - val_loss: 16.3769 - val_accuracy: 0.0000e+00\n",
            "Epoch 21/50\n",
            "57/57 [==============================] - 4s 77ms/step - loss: 16.0830 - accuracy: 0.0000e+00 - val_loss: 15.8776 - val_accuracy: 0.0000e+00\n",
            "Epoch 22/50\n",
            "57/57 [==============================] - 4s 78ms/step - loss: 15.5205 - accuracy: 0.0000e+00 - val_loss: 14.9996 - val_accuracy: 0.0000e+00\n",
            "Epoch 23/50\n",
            "57/57 [==============================] - 4s 78ms/step - loss: 14.8900 - accuracy: 0.0000e+00 - val_loss: 14.2979 - val_accuracy: 0.0000e+00\n",
            "Epoch 24/50\n",
            "57/57 [==============================] - 5s 80ms/step - loss: 14.1537 - accuracy: 0.0000e+00 - val_loss: 13.3100 - val_accuracy: 0.0000e+00\n",
            "Epoch 25/50\n",
            "57/57 [==============================] - 4s 78ms/step - loss: 13.4124 - accuracy: 0.0000e+00 - val_loss: 12.5811 - val_accuracy: 0.0000e+00\n",
            "Epoch 26/50\n",
            "57/57 [==============================] - 4s 78ms/step - loss: 12.6200 - accuracy: 5.5586e-04 - val_loss: 11.8244 - val_accuracy: 0.0000e+00\n",
            "Epoch 27/50\n",
            "57/57 [==============================] - 5s 79ms/step - loss: 11.9038 - accuracy: 0.0022 - val_loss: 11.0032 - val_accuracy: 0.0037\n",
            "Epoch 28/50\n",
            "57/57 [==============================] - 4s 78ms/step - loss: 11.1095 - accuracy: 0.0082 - val_loss: 10.1418 - val_accuracy: 0.0188\n",
            "Epoch 29/50\n",
            "57/57 [==============================] - 4s 76ms/step - loss: 10.3634 - accuracy: 0.0165 - val_loss: 9.3050 - val_accuracy: 0.0500\n",
            "Epoch 30/50\n",
            "57/57 [==============================] - 4s 79ms/step - loss: 9.6300 - accuracy: 0.0321 - val_loss: 8.7674 - val_accuracy: 0.0550\n",
            "Epoch 31/50\n",
            "57/57 [==============================] - 4s 77ms/step - loss: 8.9477 - accuracy: 0.0456 - val_loss: 8.0759 - val_accuracy: 0.0600\n",
            "Epoch 32/50\n",
            "57/57 [==============================] - 4s 77ms/step - loss: 8.3471 - accuracy: 0.0534 - val_loss: 7.4784 - val_accuracy: 0.0625\n",
            "Epoch 33/50\n",
            "57/57 [==============================] - 4s 79ms/step - loss: 7.7181 - accuracy: 0.0607 - val_loss: 6.8671 - val_accuracy: 0.0688\n",
            "Epoch 34/50\n",
            "57/57 [==============================] - 4s 77ms/step - loss: 7.1475 - accuracy: 0.0593 - val_loss: 6.5156 - val_accuracy: 0.0688\n",
            "Epoch 35/50\n",
            "57/57 [==============================] - 4s 77ms/step - loss: 6.6601 - accuracy: 0.0677 - val_loss: 5.8519 - val_accuracy: 0.0787\n",
            "Epoch 36/50\n",
            "57/57 [==============================] - 4s 78ms/step - loss: 6.1726 - accuracy: 0.0775 - val_loss: 5.5148 - val_accuracy: 0.0913\n",
            "Epoch 37/50\n",
            "57/57 [==============================] - 4s 77ms/step - loss: 5.7244 - accuracy: 0.0812 - val_loss: 5.0387 - val_accuracy: 0.0950\n",
            "Epoch 38/50\n",
            "57/57 [==============================] - 4s 78ms/step - loss: 5.3327 - accuracy: 0.0877 - val_loss: 4.7558 - val_accuracy: 0.1075\n",
            "Epoch 39/50\n",
            "57/57 [==============================] - 4s 79ms/step - loss: 5.0151 - accuracy: 0.0953 - val_loss: 4.4353 - val_accuracy: 0.1163\n",
            "Epoch 40/50\n",
            "57/57 [==============================] - 4s 76ms/step - loss: 4.6517 - accuracy: 0.0966 - val_loss: 4.0723 - val_accuracy: 0.1388\n",
            "Epoch 41/50\n",
            "57/57 [==============================] - 4s 77ms/step - loss: 4.3483 - accuracy: 0.1137 - val_loss: 3.8390 - val_accuracy: 0.1612\n",
            "Epoch 42/50\n",
            "57/57 [==============================] - 4s 77ms/step - loss: 4.0417 - accuracy: 0.1183 - val_loss: 3.5945 - val_accuracy: 0.1675\n",
            "Epoch 43/50\n",
            "57/57 [==============================] - 4s 77ms/step - loss: 3.8223 - accuracy: 0.1270 - val_loss: 3.3612 - val_accuracy: 0.2050\n",
            "Epoch 44/50\n",
            "57/57 [==============================] - 4s 79ms/step - loss: 3.5756 - accuracy: 0.1367 - val_loss: 3.2094 - val_accuracy: 0.2225\n",
            "Epoch 45/50\n",
            "57/57 [==============================] - 4s 78ms/step - loss: 3.3805 - accuracy: 0.1513 - val_loss: 2.9823 - val_accuracy: 0.2350\n",
            "Epoch 46/50\n",
            "57/57 [==============================] - 4s 77ms/step - loss: 3.1924 - accuracy: 0.1613 - val_loss: 2.8550 - val_accuracy: 0.2400\n",
            "Epoch 47/50\n",
            "57/57 [==============================] - 5s 79ms/step - loss: 2.9962 - accuracy: 0.1738 - val_loss: 2.6904 - val_accuracy: 0.2900\n",
            "Epoch 48/50\n",
            "57/57 [==============================] - 4s 76ms/step - loss: 2.8117 - accuracy: 0.1930 - val_loss: 2.5256 - val_accuracy: 0.3250\n",
            "Epoch 49/50\n",
            "57/57 [==============================] - 4s 77ms/step - loss: 2.6499 - accuracy: 0.2083 - val_loss: 2.4417 - val_accuracy: 0.3338\n",
            "Epoch 50/50\n",
            "57/57 [==============================] - 4s 78ms/step - loss: 2.5369 - accuracy: 0.2221 - val_loss: 2.2388 - val_accuracy: 0.3750\n"
          ]
        },
        {
          "output_type": "execute_result",
          "data": {
            "text/plain": [
              "<keras.src.callbacks.History at 0x78df64d89840>"
            ]
          },
          "metadata": {},
          "execution_count": 117
        }
      ]
    },
    {
      "cell_type": "markdown",
      "source": [
        "## Predict"
      ],
      "metadata": {
        "id": "hhsAPQJBSGLZ"
      }
    },
    {
      "cell_type": "code",
      "source": [
        "preds = model.predict(valid_x)\n",
        "decoded = K.get_value(K.ctc_decode(preds, input_length=np.ones(preds.shape[0])*preds.shape[1],\n",
        "                                   greedy=True)[0][0])\n",
        "\n",
        "prediction = []\n",
        "for i in range(valid_size):\n",
        "    prediction.append(num_to_label(decoded[i]))"
      ],
      "metadata": {
        "id": "CwfnUGFISEmK",
        "colab": {
          "base_uri": "https://localhost:8080/"
        },
        "outputId": "72f7ff0d-a3e1-4f03-84aa-c4a8b7d33875"
      },
      "execution_count": 118,
      "outputs": [
        {
          "output_type": "stream",
          "name": "stdout",
          "text": [
            "25/25 [==============================] - 1s 7ms/step\n"
          ]
        }
      ]
    },
    {
      "cell_type": "code",
      "source": [
        "y_true = valid.loc[0:valid_size, 'IDENTITY']\n",
        "correct_char = 0\n",
        "total_char = 0\n",
        "correct = 0\n",
        "\n",
        "for i in range(valid_size):\n",
        "    pr = prediction[i]\n",
        "    tr = y_true[i]\n",
        "    total_char += len(tr)\n",
        "\n",
        "    for j in range(min(len(tr), len(pr))):\n",
        "        if tr[j] == pr[j]:\n",
        "            correct_char += 1\n",
        "\n",
        "    if pr == tr :\n",
        "        correct += 1\n",
        "\n",
        "print('Correct characters predicted : %.2f%%' %(correct_char*100/total_char))\n",
        "print('Correct words predicted      : %.2f%%' %(correct*100/valid_size))"
      ],
      "metadata": {
        "id": "gvRdsv9_SHde",
        "colab": {
          "base_uri": "https://localhost:8080/"
        },
        "outputId": "f0dc05d6-2bd9-4d66-bbd2-20a795c768f3"
      },
      "execution_count": 119,
      "outputs": [
        {
          "output_type": "stream",
          "name": "stdout",
          "text": [
            "Correct characters predicted : 68.04%\n",
            "Correct words predicted      : 55.00%\n"
          ]
        }
      ]
    },
    {
      "cell_type": "code",
      "source": [
        "model_final.save(\"wordModelOCR2.h5\")"
      ],
      "metadata": {
        "id": "qrLFMEHYSKv-",
        "colab": {
          "base_uri": "https://localhost:8080/"
        },
        "outputId": "56ce2629-5604-46f2-b936-90de9a812ef5"
      },
      "execution_count": 120,
      "outputs": [
        {
          "output_type": "stream",
          "name": "stderr",
          "text": [
            "/usr/local/lib/python3.10/dist-packages/keras/src/engine/training.py:3103: UserWarning: You are saving your model as an HDF5 file via `model.save()`. This file format is considered legacy. We recommend using instead the native Keras format, e.g. `model.save('my_model.keras')`.\n",
            "  saving_api.save_model(\n"
          ]
        }
      ]
    },
    {
      "cell_type": "markdown",
      "source": [
        "## Predict 2"
      ],
      "metadata": {
        "id": "KhWy-D5YSTd6"
      }
    },
    {
      "cell_type": "code",
      "source": [
        "import cv2\n",
        "import numpy as np\n",
        "from keras.models import load_model, Model\n",
        "from keras import backend as K\n",
        "from keras.layers import Input\n",
        "\n",
        "# Load the trained model\n",
        "model = load_model(\"wordModelOCR2.h5\", compile=False)\n",
        "\n",
        "# Define the alphabet and other parameters\n",
        "alphabets = u\"ABCÇDEFGĞHIİJKLMNOÖPRSŞTUÜVYZabcçdefgğhıijklmnoöprsştuüvyz0123456789\\\".,-':;()?/!+& \"\n",
        "max_str_len = 24\n",
        "num_of_timestamps = 64\n",
        "\n",
        "def preprocess(img):\n",
        "    (h, w) = img.shape\n",
        "    final_img = np.ones([64, 256]) * 255  # blank white image\n",
        "\n",
        "    # crop\n",
        "    if w > 256:\n",
        "        img = img[:, :256]\n",
        "    if h > 64:\n",
        "        img = img[:64, :]\n",
        "\n",
        "    final_img[:h, :w] = img\n",
        "    return cv2.rotate(final_img, cv2.ROTATE_90_CLOCKWISE)\n",
        "\n",
        "def num_to_label(num):\n",
        "    ret = \"\"\n",
        "    for ch in num:\n",
        "        if ch == -1:  # CTC Blank\n",
        "            break\n",
        "        else:\n",
        "            ret += alphabets[ch]\n",
        "    return ret\n",
        "\n",
        "# Create a new model that outputs predictions directly\n",
        "input_data = Input(shape=(256, 64, 1), name='input')\n",
        "y_pred = model.get_layer('softmax').output\n",
        "prediction_model = Model(inputs=model.input[0], outputs=y_pred)\n",
        "\n",
        "# Load and preprocess the new image\n",
        "img_dir = '/content/word_14.png'\n",
        "image = cv2.imread(img_dir, cv2.IMREAD_GRAYSCALE)\n",
        "image = preprocess(image)\n",
        "image = image / 255.0\n",
        "\n",
        "# Predict\n",
        "pred = prediction_model.predict(image.reshape(1, 256, 64, 1))\n",
        "decoded = K.get_value(K.ctc_decode(pred, input_length=np.ones(pred.shape[0]) * pred.shape[1],\n",
        "                                   greedy=True)[0][0])\n",
        "\n",
        "print('Predicted text:', num_to_label(decoded[0]))\n"
      ],
      "metadata": {
        "id": "yrvtVph_SLo4",
        "colab": {
          "base_uri": "https://localhost:8080/"
        },
        "outputId": "f056d03a-a4b7-4ab6-efc4-c385d6f4c3ec"
      },
      "execution_count": 123,
      "outputs": [
        {
          "output_type": "stream",
          "name": "stdout",
          "text": [
            "1/1 [==============================] - 1s 1s/step\n",
            "Predicted text: Ancak,\n"
          ]
        }
      ]
    }
  ]
}
